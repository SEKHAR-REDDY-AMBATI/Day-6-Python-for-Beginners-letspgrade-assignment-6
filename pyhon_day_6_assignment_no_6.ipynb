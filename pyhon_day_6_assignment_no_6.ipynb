{
  "nbformat": 4,
  "nbformat_minor": 0,
  "metadata": {
    "colab": {
      "name": "pyhon day 6 assignment no 6.ipynb",
      "provenance": [],
      "collapsed_sections": []
    },
    "kernelspec": {
      "name": "python3",
      "display_name": "Python 3"
    },
    "language_info": {
      "name": "python"
    }
  },
  "cells": [
    {
      "cell_type": "code",
      "metadata": {
        "colab": {
          "base_uri": "https://localhost:8080/",
          "height": 0
        },
        "id": "QkE_CfTlenIg",
        "outputId": "ffc2429d-e2fe-4385-9bd3-4333e2210717"
      },
      "source": [
        "import requests\n",
        "# paste your api key here\n",
        "api_key = \"4256b3de394a56a86ee35e43af6f5c2e\"\n",
        "# getting city name from user\n",
        "city = input(\"Enter city name: \")\n",
        "\"\"\"\n",
        "we appending the city valirable and api_key variable to complete the url. for example city name is Mumbai  then url looks like \n",
        "https://api.openweathermap.org/data/2.5/weather?q=Mumbai&units=metric&APPID=4256b3de394a56a86ee35e43af6f5c2e\n",
        "\"\"\"\n",
        "data = requests.get(\n",
        "    f\"https://api.openweathermap.org/data/2.5/weather?q={city}&units=metric&APPID={api_key}\"\n",
        ")\n",
        "# uncomment the following line and run it so you can get the data in json format\n",
        "# print(data.json())\n",
        "# getting the data\n",
        "print(f\"Location: {data.json().get('name')}, {data.json().get('sys').get('country')}\")\n",
        "print(f\"Temperature: {data.json().get('main')['temp']}°C\")\n",
        "print(f\"Weather: {data.json().get('weather')[0].get('main')}\")\n",
        "print(\n",
        "    f\"Min/Max Temperature: {data.json().get('main')['temp_min']}°C/{data.json().get('main')['temp_max']}°C\"\n",
        ")\n",
        "print(f\"Humidity: {data.json().get('main')['humidity']}%\")\n",
        "print(f\"Wind: {data.json().get('wind')['speed']} km/h\")\n",
        "\n"
      ],
      "execution_count": 1,
      "outputs": [
        {
          "output_type": "stream",
          "text": [
            "Enter city name: kakinada\n",
            "Location: Kākināda, IN\n",
            "Temperature: 28.84°C\n",
            "Weather: Clouds\n",
            "Min/Max Temperature: 28.84°C/28.84°C\n",
            "Humidity: 71%\n",
            "Wind: 4.93 km/h\n"
          ],
          "name": "stdout"
        }
      ]
    },
    {
      "cell_type": "code",
      "metadata": {
        "id": "_SW9C4YVsCJc"
      },
      "source": [
        ""
      ],
      "execution_count": null,
      "outputs": []
    }
  ]
}